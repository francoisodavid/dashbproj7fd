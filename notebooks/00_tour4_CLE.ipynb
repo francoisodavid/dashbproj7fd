{
 "cells": [
  {
   "cell_type": "markdown",
   "id": "5d8aa4e3",
   "metadata": {},
   "source": [
    "# Prediction d'éligibilité à un crédit d'après les données historiques de crédit remboursés (target 0) ou non remboursés (target 1)\n",
    "## Partie Exploration rapide et sauvegarde des données essentielles"
   ]
  },
  {
   "cell_type": "code",
   "execution_count": null,
   "id": "4f254a27",
   "metadata": {},
   "outputs": [],
   "source": [
    "from srfunctions import *\n",
    "import os"
   ]
  },
  {
   "cell_type": "code",
   "execution_count": null,
   "id": "454b4974",
   "metadata": {},
   "outputs": [],
   "source": [
    "import pandas as pd"
   ]
  },
  {
   "cell_type": "code",
   "execution_count": null,
   "id": "15279cd4",
   "metadata": {},
   "outputs": [],
   "source": [
    "import plotly\n",
    "from plotly.offline import iplot"
   ]
  },
  {
   "cell_type": "code",
   "execution_count": null,
   "id": "c98bb82e",
   "metadata": {},
   "outputs": [],
   "source": [
    "from plotly.offline import init_notebook_mode, iplot\n",
    "import seaborn as sns\n",
    "import random \n",
    "init_notebook_mode(connected=True)"
   ]
  },
  {
   "cell_type": "code",
   "execution_count": null,
   "id": "a5b66b28",
   "metadata": {},
   "outputs": [],
   "source": [
    "import seaborn as sns\n",
    "import matplotlib.pyplot as plt\n",
    "import matplotlib\n",
    "import plotly.graph_objs as go\n",
    "from plotly.offline import iplot\n",
    "import plotly.express as px\n",
    "\n",
    "import plotly.figure_factory as ff\n",
    "import plotly.graph_objects as go\n",
    "\n",
    "pd.set_option('display.max_rows', 200)\n",
    "import warnings\n",
    "warnings.filterwarnings(\"ignore\")"
   ]
  },
  {
   "cell_type": "markdown",
   "id": "8d638f77",
   "metadata": {},
   "source": [
    "## fonction courantes"
   ]
  },
  {
   "cell_type": "code",
   "execution_count": null,
   "id": "a9871028",
   "metadata": {},
   "outputs": [],
   "source": [
    "# représente les données catégorielle et numérique d'un DF.\n",
    "def plotolist(alist):\n",
    "    print(alist.columns,alist.shape)\n",
    "    floatcols = []\n",
    "    for i in alist.columns:\n",
    "        print(alist[i].dtype)\n",
    "        if ((alist[i].dtype=='float64') | (alist[i].dtype=='int64') | (alist[i].dtype=='uint8')):\n",
    "            print(i)\n",
    "            floatcols.append(i)\n",
    "    plot_data(alist[floatcols]) # pas d'output car pas de float\n",
    "    categcols = []\n",
    "    for i in alist.columns:\n",
    "        if alist[i].dtype==object:\n",
    "            print(i)\n",
    "            categcols.append(i)\n",
    "    plot_data_categ(alist[categcols]) # \n",
    "    plt.show()"
   ]
  },
  {
   "cell_type": "code",
   "execution_count": null,
   "id": "1594bb26",
   "metadata": {},
   "outputs": [],
   "source": [
    "# sous fonction pour les données numériques\n",
    "def plot_data(data):\n",
    "    fig = plt.figure(figsize=(25, 25))\n",
    "    for i,feat_idx in enumerate(data.columns):\n",
    "        ax = fig.add_subplot(14,8, i+1)\n",
    "        h = ax.hist(data[feat_idx].values, bins=50, color='steelblue', density=True, edgecolor='none')\n",
    "        ax.set_title(data.columns[i][0:20] , fontsize=14)\n",
    "        ax.tick_params('x', labelrotation=0)\n",
    "        plt.title(feat_idx[0:min(len(feat_idx),20)] , y=1.2,rotation = 0,fontsize=14)\n",
    "        plt.yticks(ha='right')\n",
    "    fig.tight_layout(pad=3.0)\n",
    "    plt.show()"
   ]
  },
  {
   "cell_type": "code",
   "execution_count": null,
   "id": "0ffdc6c5",
   "metadata": {},
   "outputs": [],
   "source": [
    "# sous fonction pour les données catégorielles\n",
    "def plot_data_categ(data):\n",
    "    fig = plt.figure(figsize=(25, 5))\n",
    "    for i,feat_idx in enumerate(data.columns):\n",
    "        ax = fig.add_subplot(4,5,i+1)\n",
    "        ax=data[feat_idx].value_counts()[0:10].plot(kind='bar')\n",
    "        ax.set_xticklabels(ax.get_xticklabels(), Fontsize=15, rotation = 65, horizontalalignment='right')\n",
    "        plt.title(feat_idx[0:min(len(feat_idx),20)] , y=1.2, rotation = 0,fontsize=14)\n",
    "        plt.yticks(ha='right')\n",
    "    #fig.tight_layout(pad=8.0)\n",
    "    plt.subplots_adjust(left=0.1,\n",
    "                    bottom=0.4, \n",
    "                    right=0.9, \n",
    "                    top=2.5, \n",
    "                    wspace=0.9, \n",
    "                    hspace=3)\n",
    "    plt.show()\n",
    "categcols = []"
   ]
  },
  {
   "cell_type": "code",
   "execution_count": null,
   "id": "6b7581d9",
   "metadata": {},
   "outputs": [],
   "source": [
    "# utilisation d'une fonction de kaggle https://www.kaggle.com/code/willkoehrsen/introduction-to-manual-feature-engineering/notebook\n",
    "# Plots the disribution of a variable colored by value of the target\n",
    "def kde_target(var_name, df):\n",
    "    \n",
    "    # Calculate the correlation coefficient between the new variable and the target\n",
    "    corr = df['TARGET'].corr(df[var_name])\n",
    "    \n",
    "    # Calculate medians for repaid vs not repaid\n",
    "    avg_repaid = df.loc[df['TARGET'] == 0, var_name].median()\n",
    "    avg_not_repaid = df.loc[df['TARGET'] == 1, var_name].median()\n",
    "    \n",
    "    plt.figure(figsize = (12, 6))\n",
    "    \n",
    "    # Plot the distribution for target == 0 and target == 1\n",
    "    sns.kdeplot(df.loc[df['TARGET'] == 0, var_name], label = 'TARGET == 0')\n",
    "    sns.kdeplot(df.loc[df['TARGET'] == 1, var_name], label = 'TARGET == 1')\n",
    "    \n",
    "    # label the plot\n",
    "    plt.xlabel(var_name, fontsize=30); plt.ylabel('Density', fontsize=30); plt.title('%s Distribution' % var_name, fontsize=30)\n",
    "    plt.legend();\n",
    "    \n",
    "    # print out the correlation\n",
    "    print('The correlation between %s and the TARGET is %0.4f' % (var_name, corr))\n",
    "    # Print out average values\n",
    "    print('Median value for loan that was not repaid = %0.4f' % avg_not_repaid)\n",
    "    print('Median value for loan that was repaid =     %0.4f' % avg_repaid)\n",
    "    \n",
    "    "
   ]
  },
  {
   "cell_type": "markdown",
   "id": "b85b44a4",
   "metadata": {},
   "source": [
    "# Chargement des données"
   ]
  },
  {
   "cell_type": "code",
   "execution_count": null,
   "id": "cc012943",
   "metadata": {},
   "outputs": [],
   "source": [
    "rootpath=\"C:\\\\Users\\\\francois\\\\Documents\\\\DATASCIENCE\\\\Projet7\\\\data\\\\source\\\\\""
   ]
  },
  {
   "cell_type": "code",
   "execution_count": null,
   "id": "3ba8ebcc",
   "metadata": {
    "scrolled": false
   },
   "outputs": [],
   "source": [
    "list = os.listdir(rootpath)  # liste des fichiers données source\n",
    "print(list)"
   ]
  },
  {
   "cell_type": "markdown",
   "id": "5d05030e",
   "metadata": {},
   "source": [
    "#### check-up , visualisation des données en table"
   ]
  },
  {
   "cell_type": "code",
   "execution_count": null,
   "id": "6bcbb550",
   "metadata": {
    "scrolled": false
   },
   "outputs": [],
   "source": [
    "# visualisation rapide des fichiers\n",
    "from IPython.display import display\n",
    "for i in list:\n",
    "    data=pd.read_csv(rootpath + i)\n",
    "    print(i,data.shape)\n",
    "    display(data.head(4))"
   ]
  },
  {
   "cell_type": "markdown",
   "id": "357cbe2a",
   "metadata": {},
   "source": [
    "#### Chargement des fichiers 1 par 1"
   ]
  },
  {
   "cell_type": "code",
   "execution_count": null,
   "id": "c0571504",
   "metadata": {},
   "outputs": [],
   "source": [
    "apptest = pd.read_csv(rootpath + 'application_test.csv') # 0\n",
    "apptrain = pd.read_csv(rootpath + 'application_train.csv') # 1\n",
    "bureau = pd.read_csv(rootpath + 'bureau.csv') # 2\n",
    "bureau_balance = pd.read_csv(rootpath + 'bureau_balance.csv') # 3\n",
    "card_balance = pd.read_csv(rootpath + 'credit_card_balance.csv') # 4\n",
    "customers = pd.read_csv(rootpath + 'HomeCredit_columns_description.csv') # 5\n",
    "sellers = pd.read_csv(rootpath + 'installments_payments.csv') # 6\n",
    "geolocation = pd.read_csv(rootpath + 'POS_CASH_balance.csv') # on laisse tomber ça importe peu de savoir ou le produit a été acheté\n",
    "previous_app = pd.read_csv(rootpath + 'previous_application.csv') # on laisse tomber ça aussi, pas pertinent pour la question posée a priori\n",
    "sample_sub = pd.read_csv(rootpath + 'sample_submission.csv') "
   ]
  },
  {
   "cell_type": "markdown",
   "id": "c3b523a6",
   "metadata": {},
   "source": [
    "#### Visualisation des tailles et format des données de base de la table train"
   ]
  },
  {
   "cell_type": "code",
   "execution_count": null,
   "id": "c26e78a2",
   "metadata": {
    "scrolled": true
   },
   "outputs": [],
   "source": [
    "print(apptest.shape)\n",
    "print('---')\n",
    "print(apptrain.shape)\n",
    "print('******')\n",
    "print(apptest.info())\n",
    "print('---')\n",
    "print(apptrain.info())\n",
    "print('******')\n",
    "print(apptest.dtypes)\n",
    "print('------')\n",
    "print(apptrain.dtypes)"
   ]
  },
  {
   "cell_type": "markdown",
   "id": "1307bd71",
   "metadata": {},
   "source": [
    "## Représenation rapide et complète des données numériques et catégorielles"
   ]
  },
  {
   "cell_type": "code",
   "execution_count": null,
   "id": "8ac33472",
   "metadata": {
    "scrolled": false
   },
   "outputs": [],
   "source": [
    "floatcols=[]\n",
    "# données numériques\n",
    "print(\"DONNEES NUMERIQUES\")\n",
    "for i in apptrain.columns:\n",
    "    if ((apptrain[i].dtype==float) | (apptrain[i].dtype=='int64') | (apptrain[i].dtype=='uint8')):\n",
    "        #print(i)\n",
    "        floatcols.append(i)\n",
    "plot_data(apptrain[floatcols]) # pas d'output car pas de float\n",
    "\n",
    "# donnée catégorielles\n",
    "categcols = []\n",
    "print(\"DONNEES CATEGORIELLES\")\n",
    "for i in apptrain.columns:\n",
    "    if apptrain[i].dtype==object:\n",
    "        #print(i)\n",
    "        categcols.append(i)\n",
    "plot_data_categ(apptrain[categcols]) # \n",
    "\n",
    "plt.show()"
   ]
  },
  {
   "cell_type": "markdown",
   "id": "e14508b3",
   "metadata": {},
   "source": [
    "#### Proportion des valeurs Target sous forme d'histogramme"
   ]
  },
  {
   "cell_type": "code",
   "execution_count": null,
   "id": "c6227850",
   "metadata": {
    "scrolled": false
   },
   "outputs": [],
   "source": [
    "fig = px.histogram(apptrain, x=\"TARGET\", barmode='group').update_xaxes(categoryorder = \"total descending\")\n",
    "fig.update_layout(bargap=0.2)\n",
    "fig.update_layout(\n",
    "    title=\"TARGET distribution\",\n",
    "    xaxis_title=\"TARGET values\",\n",
    "    yaxis_title=\"COUNT\",\n",
    "    legend_title=\"Legend\",\n",
    "    font=dict(\n",
    "        family=\"Courier New, monospace\",\n",
    "        size=36,\n",
    "        color=\"RebeccaPurple\"\n",
    "    )\n",
    ")\n",
    "\n",
    "fig.show()"
   ]
  },
  {
   "cell_type": "markdown",
   "id": "c80ebf8e",
   "metadata": {},
   "source": [
    "#### Représentation des proportions homme-femme-non renseigné"
   ]
  },
  {
   "cell_type": "code",
   "execution_count": null,
   "id": "ae878f91",
   "metadata": {
    "scrolled": true
   },
   "outputs": [],
   "source": [
    "fig = px.histogram(apptrain, x=\"TARGET\",\n",
    "             color='CODE_GENDER', barmode='group').update_xaxes(categoryorder = \"total descending\")\n",
    "fig.update_layout(\n",
    "    title=\"TARGET distribution / GENDER\",\n",
    "    xaxis_title=\"TARGET values\",\n",
    "    yaxis_title=\"COUNT\",\n",
    "    legend_title=\"Legend\",\n",
    "    font=dict(\n",
    "        family=\"Courier New, monospace\",\n",
    "        size=36,\n",
    "        color=\"RebeccaPurple\"\n",
    "    )\n",
    ")\n",
    "fig.show()"
   ]
  },
  {
   "cell_type": "markdown",
   "id": "78b783b1",
   "metadata": {},
   "source": [
    "#### Représentation sous forme de proportion"
   ]
  },
  {
   "cell_type": "code",
   "execution_count": null,
   "id": "02b38662",
   "metadata": {
    "scrolled": true
   },
   "outputs": [],
   "source": [
    "#df = sns.load_dataset(\"apptrain\")\n",
    "x, y, hue = \"TARGET\", \"proportion\", \"CODE_GENDER\"\n",
    "hue_order = [\"M\", \"F\", \"XNA\"]\n",
    "sns.set(font_scale=1.75)\n",
    "sns.set_theme(style=\"white\", palette=\"hls\")\n",
    "#sns.color_palette('hls', n_colors = 2)\n",
    "#sns.color_palette(\"hls\", 8)\n",
    "(apptrain[x]\n",
    " .groupby(apptrain[hue])\n",
    " .value_counts(normalize=True)\n",
    " .rename(y)\n",
    " .reset_index()\n",
    " .pipe((sns.barplot, \"data\"), x=x, y=y, hue=hue))\n",
    "\n"
   ]
  },
  {
   "cell_type": "markdown",
   "id": "5a48b218",
   "metadata": {},
   "source": [
    "On peut observer que parmi chez les hommes la proportion de TARGET=1 et + forte que chez les Femmes.\n",
    "Que les XNA remboursent toujours."
   ]
  },
  {
   "cell_type": "code",
   "execution_count": null,
   "id": "92f80f87",
   "metadata": {
    "scrolled": false
   },
   "outputs": [],
   "source": [
    "# représentation par genre et selon qu'ils détiennent un voiture ou non : cela semble un facteur important\n",
    "fig = px.histogram(apptrain, x=\"TARGET\",\n",
    "                   color=\"CODE_GENDER\", barmode='group', \n",
    "                   facet_col='FLAG_OWN_CAR').update_xaxes(categoryorder = \"total descending\")\n",
    "\n",
    "\n",
    "fig.show()"
   ]
  },
  {
   "cell_type": "code",
   "execution_count": null,
   "id": "95d97b95",
   "metadata": {
    "scrolled": true
   },
   "outputs": [],
   "source": [
    "#df = sns.load_dataset(\"apptrain\")\n",
    "x, y, hue = \"TARGET\", \"proportion\", \"FLAG_OWN_CAR\"\n",
    "hue_order = [\"N\", \"Y\"]\n",
    "\n",
    "(apptrain[x]\n",
    " .groupby(apptrain[hue])\n",
    " .value_counts(normalize=True)\n",
    " .rename(y)\n",
    " .reset_index()\n",
    " .pipe((sns.barplot, \"data\"), x=x, y=y, hue=hue))\n",
    "\n"
   ]
  },
  {
   "cell_type": "markdown",
   "id": "4578cc85",
   "metadata": {},
   "source": [
    "Ceux qui possèdent une voiture ont tendance à mieux rembourser"
   ]
  },
  {
   "cell_type": "code",
   "execution_count": null,
   "id": "ab531c43",
   "metadata": {
    "scrolled": false
   },
   "outputs": [],
   "source": [
    "# representation selon les type d'emprunt\n",
    "fig = px.histogram(apptrain, x=\"NAME_CONTRACT_TYPE\",\n",
    "             color=\"FLAG_OWN_CAR\", barmode='group', \n",
    "                   facet_col='TARGET').update_xaxes(categoryorder = \"total descending\")\n",
    "\n",
    "fig.update_layout(\n",
    "    title=\"TARGET distribution / Car Owner\",\n",
    "    xaxis_title=\"TARGET values\",\n",
    "    yaxis_title=\"COUNT\",\n",
    "    legend_title=\"Own Car\",\n",
    "    font=dict(\n",
    "        family=\"Courier New, monospace\",\n",
    "        size=26,\n",
    "        color=\"RebeccaPurple\"\n",
    "    )\n",
    ")\n",
    "fig.show()"
   ]
  },
  {
   "cell_type": "code",
   "execution_count": null,
   "id": "57e943fe",
   "metadata": {},
   "outputs": [],
   "source": [
    "# niveau d'etudes\n",
    "pie = go.Figure(data=[go.Pie(labels = apptrain['NAME_EDUCATION_TYPE'].value_counts().keys(),\n",
    "                             values = apptrain['NAME_EDUCATION_TYPE'].value_counts().values)])\n",
    "iplot(pie)"
   ]
  },
  {
   "cell_type": "code",
   "execution_count": null,
   "id": "1f276edc",
   "metadata": {
    "scrolled": true
   },
   "outputs": [],
   "source": [
    "# nombre d'enfants\n",
    "fig = px.histogram(apptrain, x=\"CNT_CHILDREN\", color=\"TARGET\", barmode='group').update_xaxes(categoryorder = \"total descending\")\n",
    "fig.show()"
   ]
  },
  {
   "cell_type": "code",
   "execution_count": null,
   "id": "e2c280bc",
   "metadata": {},
   "outputs": [],
   "source": [
    "# montant de l'emprunt et target\n",
    "fig = ff.create_distplot([apptrain[apptrain['TARGET']==0]['AMT_CREDIT'], \n",
    "                          apptrain[apptrain['TARGET']==1]['AMT_CREDIT']], \n",
    "                         ['target= 0', 'target= 1'],\n",
    "                         bin_size = [2, 2],\n",
    "                         show_rug=False,\n",
    "                         show_hist=False,\n",
    "                         show_curve=True \n",
    "                        )\n",
    "#fig.update_layout(xaxis = dict(title='AMT_CREDIT'),\n",
    "#                  yaxis =dict(title='Density'),\n",
    "#                  barmode='overlay')\n",
    "\n",
    "fig.update_layout(xaxis = dict(title='AMT_CREDIT'),\n",
    "                  yaxis =dict(title='Density'),\n",
    "                  title=\"AMT_Credit Density\",\n",
    "                  barmode='overlay',          \n",
    "                  font=dict(\n",
    "                      family=\"Courier New, monospace\",\n",
    "                      size=30,\n",
    "                      color=\"RebeccaPurple\" )\n",
    "                 )\n",
    "\n",
    "fig.show()"
   ]
  },
  {
   "cell_type": "code",
   "execution_count": null,
   "id": "dedc8469",
   "metadata": {},
   "outputs": [],
   "source": [
    "# selon le sexe et le montant\n",
    "fig = px.violin(apptrain, x='CODE_GENDER', y='AMT_CREDIT', \n",
    "                color='TARGET', box = True)\n",
    "\n",
    "fig.update_layout(xaxis = dict(title='AMT_CREDIT / Gender'),\n",
    "                  yaxis =dict(title='AMT_CREDIT'),\n",
    "                  title=\"AMT_Credit vs GENDER vs TARGET\",\n",
    "                  barmode='overlay',          \n",
    "                  font=dict(\n",
    "                      family=\"Courier New, monospace\",\n",
    "                      size=30,\n",
    "                      color=\"RebeccaPurple\" )\n",
    "                 )\n",
    "\n",
    "fig.show()"
   ]
  },
  {
   "cell_type": "code",
   "execution_count": null,
   "id": "5ef4434d",
   "metadata": {},
   "outputs": [],
   "source": [
    "# montant du bien acheté et remboursement\n",
    "fig = ff.create_distplot([apptrain[apptrain['TARGET']==0]['AMT_GOODS_PRICE'].dropna(), \n",
    "                          apptrain[apptrain['TARGET']==1]['AMT_GOODS_PRICE'].dropna()], \n",
    "                         ['target= 0', 'target= 1'],\n",
    "                         bin_size = [2, 2],\n",
    "                         show_rug=False,\n",
    "                         show_hist=False,\n",
    "                         show_curve=True \n",
    "                        )\n",
    "fig.update_layout(xaxis = dict(title='AMT_GOODS_PRICE'),\n",
    "                  yaxis =dict(title='Density'),\n",
    "                  barmode='overlay')\n",
    "\n",
    "\n",
    "fig.show()"
   ]
  },
  {
   "cell_type": "code",
   "execution_count": null,
   "id": "3ad949cf",
   "metadata": {},
   "outputs": [],
   "source": [
    "# type de bien immo\n",
    "\n",
    "pie = go.Figure(data=[go.Pie(labels = apptrain['NAME_HOUSING_TYPE'].value_counts().keys(),\n",
    "                             values = apptrain['NAME_HOUSING_TYPE'].value_counts().values)])\n",
    "iplot(pie)\n",
    "\n"
   ]
  },
  {
   "cell_type": "code",
   "execution_count": null,
   "id": "f6af1ff0",
   "metadata": {},
   "outputs": [],
   "source": [
    "# emploi des clients\n",
    "fig = px.histogram(apptrain, x=\"OCCUPATION_TYPE\",\n",
    "                  barmode='group', text_auto='.2s').update_xaxes(categoryorder = \"total descending\")\n",
    "fig.update_traces(textfont_size=12, textangle=0, textposition=\"outside\", cliponaxis=False)\n",
    "fig.show()"
   ]
  },
  {
   "cell_type": "code",
   "execution_count": null,
   "id": "405d7f8d",
   "metadata": {},
   "outputs": [],
   "source": [
    "# relation emploi target\n",
    "fig = px.histogram(apptrain, x=\"OCCUPATION_TYPE\", \n",
    "                   color=\"TARGET\", barmode='group').update_xaxes(categoryorder = \"total descending\")\n",
    "\n",
    "fig.update_layout(xaxis = dict(title='OCCUPATION TYPE'),\n",
    "                  yaxis =dict(title='COUNT'),\n",
    "                  title=\"OCCUPATION TYPE / TARGET\",\n",
    "                  barmode='relative',          \n",
    "                  font=dict(\n",
    "                      family=\"Courier New, monospace\",\n",
    "                      size=20,\n",
    "                      color=\"RebeccaPurple\" )\n",
    "                 )\n",
    "\n",
    "fig.show()"
   ]
  },
  {
   "cell_type": "code",
   "execution_count": null,
   "id": "16ee9f69",
   "metadata": {
    "scrolled": true
   },
   "outputs": [],
   "source": [
    "# société employant\n",
    "fig = px.histogram(apptrain, x=\"ORGANIZATION_TYPE\", \n",
    "                   color=\"TARGET\", barmode='stack').update_xaxes(categoryorder = \"total descending\")\n",
    "\n",
    "fig.update_layout(xaxis = dict(title='ORGANIZATION TYPE'),\n",
    "                  yaxis =dict(title='COUNT'),\n",
    "                  title=\"ORGANIZATION TYPE / TARGET\",\n",
    "                  barmode='stack',          \n",
    "                  font=dict(\n",
    "                      family=\"Courier New, monospace\",\n",
    "                      size=20,\n",
    "                      color=\"RebeccaPurple\" )\n",
    "                 )\n",
    "fig.show()"
   ]
  },
  {
   "cell_type": "code",
   "execution_count": null,
   "id": "1769335e",
   "metadata": {
    "scrolled": true
   },
   "outputs": [],
   "source": [
    "# ajout d'une table des historique de candidature au crédit\n",
    "join_1 = apptrain.join(previous_app, how='left', on='SK_ID_CURR', \n",
    "                                rsuffix='_previous')\n",
    "join_1.head()"
   ]
  },
  {
   "cell_type": "code",
   "execution_count": null,
   "id": "33744aa8",
   "metadata": {},
   "outputs": [],
   "source": [
    "# par type de paiement\n",
    "fig = px.histogram(join_1, x=\"NAME_PAYMENT_TYPE\",\n",
    "             color=\"TARGET\", barmode='group').update_xaxes(categoryorder = \"total descending\")\n",
    "fig.show()"
   ]
  },
  {
   "cell_type": "code",
   "execution_count": null,
   "id": "502ecd60",
   "metadata": {},
   "outputs": [],
   "source": [
    "# raison d'un crédit refusé\n",
    "pie = go.Figure(data=[go.Pie(labels = join_1['CODE_REJECT_REASON'].value_counts().keys(),\n",
    "                             values = join_1['CODE_REJECT_REASON'].value_counts().values)])\n",
    "\n",
    "iplot(pie)"
   ]
  },
  {
   "cell_type": "code",
   "execution_count": null,
   "id": "20621892",
   "metadata": {},
   "outputs": [],
   "source": [
    "customers['Description'].loc[customers['Row']=='CNT_PAYMENT'].values"
   ]
  },
  {
   "cell_type": "code",
   "execution_count": null,
   "id": "b67820f1",
   "metadata": {},
   "outputs": [],
   "source": [
    "# terme du credit precedent\n",
    "fig = px.histogram(join_1, x=\"CNT_PAYMENT\", color=\"TARGET\", barmode='group')\n",
    "fig.show()\n",
    "# il y a un pic à 12 ça veut dire qu'au bout de 12 an(?) il y a beaucoup de chance de reprendre un crédit"
   ]
  },
  {
   "cell_type": "code",
   "execution_count": null,
   "id": "3bc15c1c",
   "metadata": {},
   "outputs": [],
   "source": [
    "apptrain=join_1.copy() "
   ]
  },
  {
   "cell_type": "markdown",
   "id": "9ca0ed10",
   "metadata": {},
   "source": [
    "### booleanisation ou numérisation"
   ]
  },
  {
   "cell_type": "code",
   "execution_count": null,
   "id": "1e1f8f6f",
   "metadata": {},
   "outputs": [],
   "source": [
    "apptrain[\"NAME_CONTRACT_TYPE\"].loc[apptrain[\"NAME_CONTRACT_TYPE\"]=='Cash loans']=0\n",
    "apptrain[\"NAME_CONTRACT_TYPE\"].loc[apptrain[\"NAME_CONTRACT_TYPE\"]=='Revolving loans']=1\n",
    "apptrain['NAME_CONTRACT_TYPE'] = apptrain['NAME_CONTRACT_TYPE'].astype(float)\n",
    "print(apptrain[\"NAME_CONTRACT_TYPE\"].nunique())"
   ]
  },
  {
   "cell_type": "code",
   "execution_count": null,
   "id": "cd755787",
   "metadata": {},
   "outputs": [],
   "source": [
    "apptrain[\"FLAG_OWN_CAR\"].loc[apptrain[\"FLAG_OWN_CAR\"]=='N']=0\n",
    "apptrain[\"FLAG_OWN_CAR\"].loc[apptrain[\"FLAG_OWN_CAR\"]=='Y']=1\n",
    "apptrain['FLAG_OWN_CAR'] = apptrain['FLAG_OWN_CAR'].astype(float)"
   ]
  },
  {
   "cell_type": "code",
   "execution_count": null,
   "id": "236b8f00",
   "metadata": {},
   "outputs": [],
   "source": [
    "apptrain[\"FLAG_OWN_REALTY\"].loc[apptrain[\"FLAG_OWN_REALTY\"]=='N']=0\n",
    "apptrain[\"FLAG_OWN_REALTY\"].loc[apptrain[\"FLAG_OWN_REALTY\"]=='Y']=1\n",
    "apptrain['FLAG_OWN_REALTY'] = apptrain['FLAG_OWN_REALTY'].astype(float)"
   ]
  },
  {
   "cell_type": "code",
   "execution_count": null,
   "id": "27474512",
   "metadata": {},
   "outputs": [],
   "source": [
    "apptrain[\"EMERGENCYSTATE_MODE\"].loc[apptrain[\"EMERGENCYSTATE_MODE\"]=='No']=0\n",
    "apptrain[\"EMERGENCYSTATE_MODE\"].loc[apptrain[\"EMERGENCYSTATE_MODE\"]=='Yes']=1\n",
    "apptrain['EMERGENCYSTATE_MODE'] = apptrain['EMERGENCYSTATE_MODE'].astype(float)"
   ]
  },
  {
   "cell_type": "code",
   "execution_count": null,
   "id": "a2f4957d",
   "metadata": {},
   "outputs": [],
   "source": [
    "# On crée des One Hot Encoder pour les données catégorielles et drope \n",
    "apptrain = pd.concat([apptrain,pd.get_dummies(apptrain['NAME_TYPE_SUITE'], prefix='NAME_TYPE_SUITE',drop_first=True)],axis=1)\n",
    "apptrain.drop(['NAME_TYPE_SUITE'],axis=1, inplace=True)\n",
    "apptrain = pd.concat([apptrain,pd.get_dummies(apptrain['NAME_INCOME_TYPE'], prefix='NAME_INCOME_TYPE',drop_first=True)],axis=1)\n",
    "apptrain.drop(['NAME_INCOME_TYPE'],axis=1, inplace=True)\n",
    "apptrain = pd.concat([apptrain,pd.get_dummies(apptrain['NAME_EDUCATION_TYPE'], prefix='NAME_EDUCATION_TYPE',drop_first=True)],axis=1)\n",
    "apptrain.drop(['NAME_EDUCATION_TYPE'],axis=1, inplace=True)\n",
    "apptrain = pd.concat([apptrain,pd.get_dummies(apptrain['NAME_FAMILY_STATUS'], \n",
    "                                              prefix='NAME_FAMILY_STATUS',drop_first=True)],axis=1)\n",
    "apptrain.drop(['NAME_FAMILY_STATUS'],axis=1, inplace=True)\n",
    "apptrain = pd.concat([apptrain,pd.get_dummies(apptrain['NAME_HOUSING_TYPE'], \n",
    "                                              prefix='NAME_HOUSING_TYPE',drop_first=True)],axis=1)\n",
    "apptrain.drop(['NAME_HOUSING_TYPE'],axis=1, inplace=True)\n",
    "apptrain = pd.concat([apptrain,pd.get_dummies(apptrain['OCCUPATION_TYPE'], \n",
    "                                              prefix='OCCUPATION_TYPE',drop_first=True)],axis=1)\n",
    "apptrain.drop(['OCCUPATION_TYPE'],axis=1, inplace=True)\n",
    "apptrain = pd.concat([apptrain,pd.get_dummies(apptrain['ORGANIZATION_TYPE'], \n",
    "                                              prefix='ORGANIZATION_TYPE',drop_first=True)],axis=1)\n",
    "apptrain.drop(['ORGANIZATION_TYPE'],axis=1, inplace=True)\n",
    "apptrain = pd.concat([apptrain,pd.get_dummies(apptrain['FONDKAPREMONT_MODE'], \n",
    "                                              prefix='FONDKAPREMONT_MODE',drop_first=True)],axis=1)\n",
    "apptrain.drop(['FONDKAPREMONT_MODE'],axis=1, inplace=True)\n",
    "apptrain = pd.concat([apptrain,pd.get_dummies(apptrain['HOUSETYPE_MODE'], \n",
    "                                              prefix='HOUSETYPE_MODE',drop_first=True)],axis=1)\n",
    "apptrain.drop(['HOUSETYPE_MODE'],axis=1, inplace=True)\n",
    "apptrain = pd.concat([apptrain,pd.get_dummies(apptrain['WALLSMATERIAL_MODE'], \n",
    "                                              prefix='WALLSMATERIAL_MODE',drop_first=True)],axis=1)\n",
    "apptrain.drop(['WALLSMATERIAL_MODE'],axis=1, inplace=True)\n",
    "apptrain = pd.concat([apptrain,pd.get_dummies(apptrain['NAME_CONTRACT_TYPE_previous'], \n",
    "                                              prefix='NAME_CONTRACT_TYPE_previous',drop_first=True)],axis=1)\n",
    "apptrain.drop(['NAME_CONTRACT_TYPE_previous'],axis=1, inplace=True)\n",
    "apptrain = pd.concat([apptrain,pd.get_dummies(apptrain['WEEKDAY_APPR_PROCESS_START_previous'], \n",
    "                                              prefix='WEEKDAY_APPR_PROCESS_START_previous',drop_first=True)],axis=1)\n",
    "apptrain.drop(['WEEKDAY_APPR_PROCESS_START_previous'],axis=1, inplace=True)\n",
    "apptrain = pd.concat([apptrain,pd.get_dummies(apptrain['FLAG_LAST_APPL_PER_CONTRACT'], \n",
    "                                              prefix='FLAG_LAST_APPL_PER_CONTRACT',drop_first=True)],axis=1)\n",
    "apptrain.drop(['FLAG_LAST_APPL_PER_CONTRACT'],axis=1, inplace=True)\n",
    "apptrain = pd.concat([apptrain,pd.get_dummies(apptrain['WEEKDAY_APPR_PROCESS_START'], \n",
    "                                              prefix='WEEKDAY_APPR_PROCESS_START',drop_first=True)],axis=1)\n",
    "apptrain.drop(['WEEKDAY_APPR_PROCESS_START'],axis=1, inplace=True)\n",
    "apptrain = pd.concat([apptrain,pd.get_dummies(apptrain['CODE_GENDER'], \n",
    "                                              prefix='CODE_GENDER',drop_first=True)],axis=1)\n",
    "apptrain.drop(['CODE_GENDER'],axis=1, inplace=True)\n",
    "apptrain = pd.concat([apptrain,pd.get_dummies(apptrain['NAME_CASH_LOAN_PURPOSE'], \n",
    "                                              prefix='NAME_CASH_LOAN_PURPOSE',drop_first=True)],axis=1)\n",
    "apptrain.drop(['NAME_CASH_LOAN_PURPOSE'],axis=1, inplace=True)\n",
    "apptrain = pd.concat([apptrain,pd.get_dummies(apptrain['NAME_CONTRACT_STATUS'], \n",
    "                                              prefix='NAME_CONTRACT_STATUS',drop_first=True)],axis=1)\n",
    "apptrain.drop(['NAME_CONTRACT_STATUS'],axis=1, inplace=True)\n",
    "apptrain = pd.concat([apptrain,pd.get_dummies(apptrain['NAME_PAYMENT_TYPE'], \n",
    "                                              prefix='NAME_PAYMENT_TYPE',drop_first=True)],axis=1)\n",
    "apptrain.drop(['NAME_PAYMENT_TYPE'],axis=1, inplace=True)\n",
    "apptrain = pd.concat([apptrain,pd.get_dummies(apptrain['CODE_REJECT_REASON'], \n",
    "                                              prefix='CODE_REJECT_REASON',drop_first=True)],axis=1)\n",
    "apptrain.drop(['CODE_REJECT_REASON'],axis=1, inplace=True)\n",
    "apptrain = pd.concat([apptrain,pd.get_dummies(apptrain['NAME_TYPE_SUITE_previous'], \n",
    "                                              prefix='NAME_TYPE_SUITE_previous',drop_first=True)],axis=1)\n",
    "apptrain.drop(['NAME_TYPE_SUITE_previous'],axis=1, inplace=True)\n",
    "apptrain = pd.concat([apptrain,pd.get_dummies(apptrain['NAME_CLIENT_TYPE'], \n",
    "                                              prefix='NAME_CLIENT_TYPE',drop_first=True)],axis=1)\n",
    "apptrain.drop(['NAME_CLIENT_TYPE'],axis=1, inplace=True)\n",
    "apptrain = pd.concat([apptrain,pd.get_dummies(apptrain['NAME_GOODS_CATEGORY'], \n",
    "                                              prefix='NAME_GOODS_CATEGORY',drop_first=True)],axis=1)\n",
    "apptrain.drop(['NAME_GOODS_CATEGORY'],axis=1, inplace=True)\n",
    "apptrain = pd.concat([apptrain,pd.get_dummies(apptrain['NAME_PORTFOLIO'], \n",
    "                                              prefix='NAME_PORTFOLIO',drop_first=True)],axis=1)\n",
    "apptrain.drop(['NAME_PORTFOLIO'],axis=1, inplace=True)\n",
    "apptrain = pd.concat([apptrain,pd.get_dummies(apptrain['NAME_PRODUCT_TYPE'], \n",
    "                                              prefix='NAME_PRODUCT_TYPE',drop_first=True)],axis=1)\n",
    "apptrain.drop(['NAME_PRODUCT_TYPE'],axis=1, inplace=True)\n",
    "apptrain = pd.concat([apptrain,pd.get_dummies(apptrain['CHANNEL_TYPE'], \n",
    "                                              prefix='CHANNEL_TYPE',drop_first=True)],axis=1)\n",
    "apptrain.drop(['CHANNEL_TYPE'],axis=1, inplace=True)\n",
    "apptrain = pd.concat([apptrain,pd.get_dummies(apptrain['NAME_SELLER_INDUSTRY'], \n",
    "                                              prefix='NAME_SELLER_INDUSTRY',drop_first=True)],axis=1)\n",
    "apptrain.drop(['NAME_SELLER_INDUSTRY'],axis=1, inplace=True)\n",
    "apptrain = pd.concat([apptrain,pd.get_dummies(apptrain['NAME_YIELD_GROUP'], \n",
    "                                              prefix='NAME_YIELD_GROUP',drop_first=True)],axis=1)\n",
    "apptrain.drop(['NAME_YIELD_GROUP'],axis=1, inplace=True)\n",
    "apptrain = pd.concat([apptrain,pd.get_dummies(apptrain['PRODUCT_COMBINATION'], \n",
    "                                              prefix='PRODUCT_COMBINATION',drop_first=True)],axis=1)\n",
    "apptrain.drop(['PRODUCT_COMBINATION'],axis=1, inplace=True)\n",
    "\n",
    "#apptrain = pd.concat([apptrain,pd.get_dummies(apptrain['EMERGENCYSTATE_MODE'], prefix='EMERGENCYSTATE_MODE')],axis=1)\n",
    "#apptrain.drop(['EMERGENCYSTATE_MODE'],axis=1, inplace=True)"
   ]
  },
  {
   "cell_type": "code",
   "execution_count": null,
   "id": "03554d75",
   "metadata": {},
   "outputs": [],
   "source": [
    "# je verifie qu'il n'y a plus de catégories objet dans mon df\n",
    "for i in apptrain.columns:\n",
    "    if apptrain[i].dtype==object:\n",
    "        print(i)\n",
    "        #categcols.append(i)\n",
    "#plot_data_categ(apptrain[categcols]) # "
   ]
  },
  {
   "cell_type": "code",
   "execution_count": null,
   "id": "1e68cc3f",
   "metadata": {
    "scrolled": false
   },
   "outputs": [],
   "source": [
    "def print_outlier():\n",
    "    for indic in apptrain.columns:\n",
    "        print(apptrain[indic].nunique())\n",
    "        if apptrain[indic].nunique()>5:\n",
    "            print(indic)\n",
    "            #print(apptrain[indic].loc[apptrain[indic]>apptrain[indic].mean()+50*apptrain[indic].std()])\n",
    "            apptrain.drop(apptrain.loc[apptrain[indic]>apptrain[indic].mean()+50*apptrain[indic].std()].index,axis=0,inplace=True)\n",
    "print_outlier()\n",
    "# AU FINAL JE N'APPLIQUE PAS CETTE METHODE NI AUCUNE car on utilise pas de modélisation linéaire a priori donc peu d'impact des outliers\n",
    "# de plus lors du one hot encoding ça crée des valeurs 1 très minoritaires qui sont détectées comme outlier "
   ]
  },
  {
   "cell_type": "code",
   "execution_count": null,
   "id": "e963b838",
   "metadata": {},
   "outputs": [],
   "source": [
    "print(\"Incom min,max\",apptrain[\"AMT_INCOME_TOTAL\"].min(),apptrain[\"AMT_INCOME_TOTAL\"].max())\n",
    "apptrain[\"AMT_INCOME_TOTAL\"].loc[apptrain[\"AMT_INCOME_TOTAL\"]>apptrain[\"AMT_INCOME_TOTAL\"].mean()+100*apptrain[\"AMT_INCOME_TOTAL\"].std()]"
   ]
  },
  {
   "cell_type": "code",
   "execution_count": null,
   "id": "b8dd476c",
   "metadata": {
    "scrolled": false
   },
   "outputs": [],
   "source": [
    "# exploration \n",
    "#plt.scatter(apptrain[\"TARGET\"],apptrain[\"AMT_INCOME_TOTAL\"])\n",
    "fig = ff.create_distplot([np.log(apptrain[apptrain['TARGET']==0]['AMT_INCOME_TOTAL'].dropna()), \n",
    "                          np.log(apptrain[apptrain['TARGET']==1]['AMT_INCOME_TOTAL'].dropna())], \n",
    "                         ['target= 0', 'target= 1'],\n",
    "                         bin_size = [2, 2],\n",
    "                         show_rug=False,\n",
    "                         show_hist=False,\n",
    "                         show_curve=True \n",
    "                        )\n",
    "fig.update_layout(xaxis = dict(title='AMT_INCOME_TOTAL'),\n",
    "                  yaxis =dict(title='Density'),\n",
    "                  barmode='overlay')\n",
    "\n",
    "\n",
    "fig.show()"
   ]
  },
  {
   "cell_type": "code",
   "execution_count": null,
   "id": "ee794667",
   "metadata": {
    "scrolled": true
   },
   "outputs": [],
   "source": [
    "# observation des valeurs features classée par taux de remplissage\n",
    "apptrain.isna().mean().sort_values(ascending=False).to_frame().reset_index().plot()\n",
    "apptrain.isna().mean().sort_values(ascending=False)[0:5]"
   ]
  },
  {
   "cell_type": "code",
   "execution_count": null,
   "id": "f922d9a9",
   "metadata": {},
   "outputs": [],
   "source": [
    "# on verifie qu'il y a bien unicité de numero de client\n",
    "print(apptrain.SK_ID_CURR.nunique())\n",
    "print(apptrain.SK_ID_CURR.shape)"
   ]
  },
  {
   "cell_type": "markdown",
   "id": "782d7e50",
   "metadata": {},
   "source": [
    "On passe les ID client comme index"
   ]
  },
  {
   "cell_type": "code",
   "execution_count": null,
   "id": "4a7f29e6",
   "metadata": {},
   "outputs": [],
   "source": [
    "apptrain.set_index('SK_ID_CURR')"
   ]
  },
  {
   "cell_type": "code",
   "execution_count": null,
   "id": "c546cd4d",
   "metadata": {},
   "outputs": [],
   "source": [
    "#apptrain.drop('SK_ID_CURR',axis=1,inplace=True) "
   ]
  },
  {
   "cell_type": "code",
   "execution_count": null,
   "id": "52cf3c1c",
   "metadata": {
    "scrolled": true
   },
   "outputs": [],
   "source": [
    "# représente les données catégorielle et numérique d'un DF.\n",
    "def printdtype(alist):\n",
    "    #print(alist.columns,alist.shape)\n",
    "    #floatcols = []\n",
    "    for i in alist.columns:\n",
    "        #print(alist[i].dtype)\n",
    "        if ((alist[i].dtype!='float64')):\n",
    "            print(i,alist[i].dtype,'nval',alist[i].nunique())\n",
    "            print(alist[i].unique())\n",
    "            alist[i]=alist[i].astype(float)\n",
    "printdtype(apptrain)"
   ]
  },
  {
   "cell_type": "code",
   "execution_count": null,
   "id": "be6fad10",
   "metadata": {},
   "outputs": [],
   "source": [
    "apptrain.isna().mean().sort_values(ascending=False)[0:50]"
   ]
  },
  {
   "cell_type": "code",
   "execution_count": null,
   "id": "35f247a0",
   "metadata": {
    "scrolled": true
   },
   "outputs": [],
   "source": [
    "from sklearn.impute import SimpleImputer\n",
    "imp_mean = SimpleImputer(missing_values=np.nan, strategy='mean')\n",
    "imp_mean.fit(apptrain)\n",
    "X = apptrain\n",
    "print(imp_mean.transform(X))"
   ]
  },
  {
   "cell_type": "code",
   "execution_count": null,
   "id": "52d388b9",
   "metadata": {},
   "outputs": [],
   "source": [
    "#y=imp_mean.transform(X)"
   ]
  },
  {
   "cell_type": "code",
   "execution_count": null,
   "id": "f68a7deb",
   "metadata": {},
   "outputs": [],
   "source": [
    "#print(y.shape)\n",
    "#print(apptrain.shape)"
   ]
  },
  {
   "cell_type": "markdown",
   "id": "3ccd79c0",
   "metadata": {},
   "source": [
    "## fill the nan values en option"
   ]
  },
  {
   "cell_type": "code",
   "execution_count": null,
   "id": "75c7e1d2",
   "metadata": {
    "scrolled": true
   },
   "outputs": [],
   "source": [
    "# check qu'il n'y a plus de nan\n",
    "apptrain.isna().mean().sort_values(ascending=False)[0:50]"
   ]
  },
  {
   "cell_type": "markdown",
   "id": "18846134",
   "metadata": {},
   "source": [
    "## 2 D plot"
   ]
  },
  {
   "cell_type": "code",
   "execution_count": null,
   "id": "41f65313",
   "metadata": {},
   "outputs": [],
   "source": [
    "# Downsampling Resemapling manuel\n",
    "df1 = apptrain[apptrain.TARGET == 1].sample(frac=0.05)\n",
    "df2 = apptrain[apptrain.TARGET == 0].sample(frac=0.005)\n",
    "print(df1.shape)\n",
    "print(df2.shape)"
   ]
  },
  {
   "cell_type": "code",
   "execution_count": null,
   "id": "7233d708",
   "metadata": {},
   "outputs": [],
   "source": [
    "df=pd.concat([df1,df2])\n",
    "df=df.iloc[np.random.permutation(len(df))]"
   ]
  },
  {
   "cell_type": "code",
   "execution_count": null,
   "id": "ea54f0ab",
   "metadata": {},
   "outputs": [],
   "source": [
    "df"
   ]
  },
  {
   "cell_type": "code",
   "execution_count": null,
   "id": "0e89ce05",
   "metadata": {},
   "outputs": [],
   "source": [
    "df.isna().mean().sort_values(ascending=False)[0:50]"
   ]
  },
  {
   "cell_type": "code",
   "execution_count": null,
   "id": "30c1dd70",
   "metadata": {
    "scrolled": true
   },
   "outputs": [],
   "source": [
    "from random import Random\n",
    "list_selfeat=df.columns[df[df.columns[0::]].nunique()>50] # on ne prend les indicateurs qui sont suffisamment continus pas > un nb de valeurs discretes\n",
    "#list_selfeat=list_selfeat.drop(['SK_ID_CURR'])[random.sample(range(0, list_selfeat.shape[0]-1), 5)] # # selection d'un sous echantillon d'indicateur\n",
    "list_selfeat"
   ]
  },
  {
   "cell_type": "code",
   "execution_count": null,
   "id": "4217b66b",
   "metadata": {},
   "outputs": [],
   "source": [
    "list_selfeat1=list_selfeat.union(['TARGET'])"
   ]
  },
  {
   "cell_type": "code",
   "execution_count": null,
   "id": "e0b69740",
   "metadata": {
    "scrolled": true
   },
   "outputs": [],
   "source": [
    "list_selfeat1 #.astype(list()) #.append('Target')\n",
    "#list_selptarget"
   ]
  },
  {
   "cell_type": "code",
   "execution_count": null,
   "id": "2be9277c",
   "metadata": {
    "scrolled": true
   },
   "outputs": [],
   "source": [
    "df[df.TARGET ==1].shape"
   ]
  },
  {
   "cell_type": "code",
   "execution_count": null,
   "id": "505206d5",
   "metadata": {},
   "outputs": [],
   "source": [
    "df.isna().mean().sort_values(ascending=False)[0:50]"
   ]
  },
  {
   "cell_type": "code",
   "execution_count": null,
   "id": "c409413d",
   "metadata": {
    "scrolled": false
   },
   "outputs": [],
   "source": [
    "# genere le grpahe de base des correltion\n",
    "#g=sns.pairplot(df[list_selfeat1],kind=\"scatter\",  x_vars = df[list_selfeat], y_vars=df[list_selfeat], diag_kind=\"auto\",hue = \"TARGET\", height=4.5, aspect=1.5, plot_kws={\"s\": 400})\n",
    "\n",
    "#for i,ax in enumerate(g.axes.flatten()):\n",
    "#    ax.set_xticklabels(ax.get_xticklabels(), Fontsize=50, rotation = 45)\n",
    "#    ax.tick_params(axis='y', labelsize=50)#ax.set_yticklabels(ax.get_yticklabels(), Fontsize=30, rotation = 0)\n",
    "#    ax.set_xlabel('\\n'.join(wrap(ax.get_xlabel(),40) ), fontsize=20, rotation = 20, horizontalalignment='right')\n",
    "#    ax.set_ylabel('\\n'.join(wrap(ax.get_ylabel(),40) ), fontsize=20, rotation = 0, horizontalalignment='right')\n",
    "\n",
    "#g._legend.remove()\n",
    "#handles = g._legend_data.values()\n",
    "#labels = g._legend_data.keys()\n",
    "#g.fig.legend(handles=handles, labels=labels, loc='right', ncol=1, bbox_to_anchor = (1.05,0.75), fontsize=20, markerscale=10)\n",
    "#plt.show()"
   ]
  },
  {
   "cell_type": "code",
   "execution_count": null,
   "id": "c1d82a84",
   "metadata": {},
   "outputs": [],
   "source": [
    "#g = sns.pairplot(df[list_selfeat], diag_kind=\"kde\")"
   ]
  },
  {
   "cell_type": "code",
   "execution_count": null,
   "id": "63d9c240",
   "metadata": {},
   "outputs": [],
   "source": [
    "#df.isna().mean().sort_values(ascending=False)[0:50]"
   ]
  },
  {
   "cell_type": "markdown",
   "id": "f0a626e1",
   "metadata": {},
   "source": [
    "## HEATMAP"
   ]
  },
  {
   "cell_type": "code",
   "execution_count": null,
   "id": "71c37b73",
   "metadata": {},
   "outputs": [],
   "source": [
    "df.dtypes"
   ]
  },
  {
   "cell_type": "code",
   "execution_count": null,
   "id": "ce706a5c",
   "metadata": {
    "scrolled": false
   },
   "outputs": [],
   "source": [
    "sns.color_palette(\"coolwarm\", as_cmap=True)\n",
    "mask = np.zeros_like(df.corr()) # je mets un index sur ListRed pour ne pas prendre les indices en compte\n",
    "mask[np.triu_indices_from(mask)] = True\n",
    "\n",
    "fig, ax = plt.subplots(figsize=(50,50))\n",
    "#ax = sns.heatmap(corr, annot=True, fmt=\".2f\", annot_kws={'size':8}, \n",
    "#                 mask=mask, center=0, cmap=\"coolwarm\")\n",
    "\n",
    "heat_map=sns.heatmap(df.corr(),vmin=-1,vmax=1,annot=False,square=True, center=0,cmap=\"coolwarm\",mask=mask)\n",
    "heat_map.set_xticklabels(heat_map.get_xticklabels(), fontsize=20, rotation=90, horizontalalignment='right')\n",
    "heat_map.set_yticklabels(heat_map.get_yticklabels(), fontsize=20, rotation=0, horizontalalignment='right')\n",
    "plt.show()\n",
    "# LA eventuellement on pourrait faire une heatmap organisée un peu mieux"
   ]
  },
  {
   "cell_type": "code",
   "execution_count": null,
   "id": "6b4ffd2d",
   "metadata": {},
   "outputs": [],
   "source": [
    "df.corr().shape"
   ]
  },
  {
   "cell_type": "code",
   "execution_count": null,
   "id": "43002219",
   "metadata": {
    "scrolled": true
   },
   "outputs": [],
   "source": [
    "# recherche des features les plus corrélées à la valeur de la target\n",
    "df.corr().TARGET.sort_values(ascending=True)[0:5]"
   ]
  },
  {
   "cell_type": "markdown",
   "id": "5a42a3be",
   "metadata": {},
   "source": [
    "#### On garde pour la représentation que le 5 premiers features les plus corrélés à la Target"
   ]
  },
  {
   "cell_type": "code",
   "execution_count": null,
   "id": "4c830541",
   "metadata": {
    "scrolled": false
   },
   "outputs": [],
   "source": [
    "# représentation des densités de distributions des varaibles les plus corrélées + selon la valeur de la target\n",
    "for i in df.corr().TARGET.sort_values(ascending=False)[1:5].index:\n",
    "    kde_target(i, apptrain)\n",
    "    "
   ]
  },
  {
   "cell_type": "code",
   "execution_count": null,
   "id": "eb6eaed3",
   "metadata": {
    "scrolled": false
   },
   "outputs": [],
   "source": [
    "# représentation des densités de distributions des varaibles les plus corrélées - selon la valeur de la target\n",
    "for i in df.corr().TARGET.sort_values(ascending=True)[1:5].index:\n",
    "    kde_target(i, apptrain)\n",
    "    "
   ]
  },
  {
   "cell_type": "markdown",
   "id": "3314b405",
   "metadata": {},
   "source": [
    "#### Constitution/selection d'une liste d'indicateurs dont la le facteur de correlation en valeur absolue dépasse 0.1"
   ]
  },
  {
   "cell_type": "code",
   "execution_count": null,
   "id": "246eedda",
   "metadata": {
    "scrolled": true
   },
   "outputs": [],
   "source": [
    "list_indic=df.corr()['TARGET'][df.corr()['TARGET'].abs()>0.15]\n",
    "list_indic.index"
   ]
  },
  {
   "cell_type": "code",
   "execution_count": null,
   "id": "8dbee1eb",
   "metadata": {},
   "outputs": [],
   "source": [
    "# Heatmap of correlations\n",
    "best_data_corrs = df[list_indic.index].corr()\n",
    "best_data_corrs"
   ]
  },
  {
   "cell_type": "code",
   "execution_count": null,
   "id": "18ced971",
   "metadata": {
    "scrolled": true
   },
   "outputs": [],
   "source": [
    "plt.figure(figsize = (16, 12))\n",
    "res=sns.heatmap(best_data_corrs, cmap = plt.cm.RdYlBu_r, vmin = -0.5, annot = True, vmax = 0.6)\n",
    "plt.title('Correlation Heatmap',fontsize=28);\n",
    "res.set_xticklabels(res.get_xmajorticklabels(), rotation=45, horizontalalignment='right',fontsize = 18)\n",
    "res.set_yticklabels(res.get_ymajorticklabels(), fontsize = 18)\n"
   ]
  },
  {
   "cell_type": "code",
   "execution_count": null,
   "id": "135ffcbb",
   "metadata": {},
   "outputs": [],
   "source": [
    "selecdf=df[best_data_corrs.columns].drop(columns=df[best_data_corrs.columns[best_data_corrs.columns!='TARGET']].columns[df[best_data_corrs.columns[best_data_corrs.columns!='TARGET']].nunique()<10],axis=0)\n",
    "#seldf=df[list_indic.index].drop(columns = ['REGION_RATING_CLIENT','REGION_RATING_CLIENT_W_CITY']).copy()"
   ]
  },
  {
   "cell_type": "code",
   "execution_count": null,
   "id": "e411937b",
   "metadata": {},
   "outputs": [],
   "source": [
    "selecdf#best_data_corrs.columns[best_data_corrs.columns!='TARGET']#selecdf.columns.shape"
   ]
  },
  {
   "cell_type": "code",
   "execution_count": null,
   "id": "be38c8f7",
   "metadata": {
    "scrolled": true
   },
   "outputs": [],
   "source": [
    "# Copy the data for plotting\n",
    "#plot_data = ext_data.drop(columns = ['DAYS_BIRTH']).copy()\n",
    "\n",
    "# Add in the age of the client in years\n",
    "#plot_data['YEARS_BIRTH'] = age_data['YEARS_BIRTH']\n",
    "\n",
    "# Drop na values and limit to first 100000 rows\n",
    "#plot_data = plot_data.dropna().loc[:100000, :]\n",
    "\n",
    "# Function to calculate correlation coefficient between two columns\n",
    "def corr_func(x, y, **kwargs):\n",
    "    r = np.corrcoef(x, y)[0][1]\n",
    "    ax = plt.gca()\n",
    "    ax.annotate(\"r = {:.2f}\".format(r),\n",
    "                xy=(.2, .8), xycoords=ax.transAxes,\n",
    "                size = 20)\n",
    "matplotlib.rcParams[\"axes.labelsize\"] = 20\n",
    "# Create the pairgrid object\n",
    "grid = sns.PairGrid(data = selecdf, size = 3, diag_sharey=False,\n",
    "                    hue = 'TARGET', \n",
    "                    vars = [x for x in selecdf.columns if x != 'TARGET'])\n",
    "\n",
    "# Upper is a scatter plot\n",
    "grid.map_upper(plt.scatter, alpha = 0.2)\n",
    "\n",
    "# Diagonal is a histogram\n",
    "grid.map_diag(sns.kdeplot)\n",
    "\n",
    "# Bottom is density plot\n",
    "grid.map_lower(sns.kdeplot, cmap = plt.cm.OrRd_r);\n",
    "grid.add_legend()\n",
    "plt.suptitle('Best Features Pairs Plot', size = 32, y = 1.05);\n"
   ]
  },
  {
   "cell_type": "code",
   "execution_count": null,
   "id": "d92ffe84",
   "metadata": {},
   "outputs": [],
   "source": [
    "list_forTarget=list_indic.index #.shape"
   ]
  },
  {
   "cell_type": "markdown",
   "id": "d8b35060",
   "metadata": {},
   "source": [
    "### Correl plot"
   ]
  },
  {
   "cell_type": "code",
   "execution_count": null,
   "id": "9736dacc",
   "metadata": {},
   "outputs": [],
   "source": [
    "list_forTarget_withoutTartget=df[list_forTarget].columns.drop(['TARGET'])\n",
    "list_forTarget_withoutTartget"
   ]
  },
  {
   "cell_type": "code",
   "execution_count": null,
   "id": "f1a9093d",
   "metadata": {},
   "outputs": [],
   "source": [
    "# genere le grpahe de base des correltion\n",
    "g=sns.pairplot(df[list_forTarget],kind=\"scatter\",  x_vars = df[list_forTarget].columns.drop(['TARGET']), y_vars=df[list_forTarget].columns.drop(['TARGET']), diag_kind=\"auto\",hue = \"TARGET\", height=4.5, aspect=1.5, plot_kws={\"s\": 400})\n",
    "\n",
    "# gere les axes et labels\n",
    "for i,ax in enumerate(g.axes.flatten()):\n",
    "    ax.set_xticklabels(ax.get_xticklabels(), Fontsize=50, rotation = 45)\n",
    "    ax.tick_params(axis='y', labelsize=50)#ax.set_yticklabels(ax.get_yticklabels(), Fontsize=30, rotation = 0)\n",
    "    ax.set_xlabel('\\n'.join(wrap(ax.get_xlabel(),40) ), fontsize=20, rotation = 20, horizontalalignment='right')\n",
    "    ax.set_ylabel('\\n'.join(wrap(ax.get_ylabel(),40) ), fontsize=20, rotation = 0, horizontalalignment='right')\n"
   ]
  },
  {
   "cell_type": "markdown",
   "id": "849bb703",
   "metadata": {},
   "source": [
    "# PCA"
   ]
  },
  {
   "cell_type": "code",
   "execution_count": null,
   "id": "4caed4ac",
   "metadata": {},
   "outputs": [],
   "source": [
    "from sklearn.decomposition import PCA"
   ]
  },
  {
   "cell_type": "code",
   "execution_count": null,
   "id": "68b1291c",
   "metadata": {},
   "outputs": [],
   "source": [
    "# preparation des données pour une pca\n",
    "dfpca=df.copy()"
   ]
  },
  {
   "cell_type": "code",
   "execution_count": null,
   "id": "07e8f9a9",
   "metadata": {},
   "outputs": [],
   "source": [
    "# on garde les données un minimum continues plus de 20 valeurs differentes\n",
    "dfpca=df.drop(columns=df.columns[df.nunique()<20],axis=0) "
   ]
  },
  {
   "cell_type": "code",
   "execution_count": null,
   "id": "8fc7ff1b",
   "metadata": {},
   "outputs": [],
   "source": [
    "imp_mean.fit(dfpca)\n",
    "#SimpleImputer()\n",
    "X = dfpca #apptrain\n",
    "#print(imp_mean.transform(X))"
   ]
  },
  {
   "cell_type": "code",
   "execution_count": null,
   "id": "b62a3439",
   "metadata": {},
   "outputs": [],
   "source": [
    "X=imp_mean.transform(X)\n",
    "X.shape"
   ]
  },
  {
   "cell_type": "code",
   "execution_count": null,
   "id": "a6509221",
   "metadata": {},
   "outputs": [],
   "source": [
    "from sklearn import preprocessing\n",
    "\n",
    "# Centrage et Réduction\n",
    "std_scale = preprocessing.StandardScaler().fit(X)\n",
    "X_scaled = std_scale.transform(X)"
   ]
  },
  {
   "cell_type": "code",
   "execution_count": null,
   "id": "579e0d5c",
   "metadata": {
    "scrolled": false
   },
   "outputs": [],
   "source": [
    "pca=PCA(n_components=X_scaled.shape[1]-2)"
   ]
  },
  {
   "cell_type": "code",
   "execution_count": null,
   "id": "2c1eb18c",
   "metadata": {},
   "outputs": [],
   "source": [
    "x_pca = pca.fit_transform(X_scaled)"
   ]
  },
  {
   "cell_type": "code",
   "execution_count": null,
   "id": "7b963104",
   "metadata": {},
   "outputs": [],
   "source": [
    "ratio=pca.explained_variance_ratio_.cumsum()\n",
    "plt.plot(range(len(ratio)),ratio)"
   ]
  },
  {
   "cell_type": "code",
   "execution_count": null,
   "id": "1c0aa939",
   "metadata": {},
   "outputs": [],
   "source": [
    "pca.explained_variance_ratio_.cumsum().max()"
   ]
  },
  {
   "cell_type": "code",
   "execution_count": null,
   "id": "932ff4cf",
   "metadata": {},
   "outputs": [],
   "source": [
    "pca=PCA(n_components=30)  # on prend les features qui suffisent à expliquer 80% dela variance\n",
    "x_pca = pca.fit_transform(X_scaled) # \n",
    "x_pca.shape"
   ]
  },
  {
   "cell_type": "code",
   "execution_count": null,
   "id": "37ff2ceb",
   "metadata": {},
   "outputs": [],
   "source": [
    "# eventuellement iterative imputer\n",
    "# create subtrain subtest\n",
    "# dispplot 2 D hue categories\n",
    "df.shape"
   ]
  },
  {
   "cell_type": "code",
   "execution_count": null,
   "id": "6eb0bf0b",
   "metadata": {},
   "outputs": [],
   "source": [
    "# creation d'un df avec pca\n",
    "df3=pd.DataFrame(x_pca)"
   ]
  },
  {
   "cell_type": "code",
   "execution_count": null,
   "id": "cb2b80fe",
   "metadata": {},
   "outputs": [],
   "source": [
    "#df4=pd.merge(df, df3, left_index=True, right_index=True)\n",
    "#df4"
   ]
  },
  {
   "cell_type": "code",
   "execution_count": null,
   "id": "a2ed4a32",
   "metadata": {},
   "outputs": [],
   "source": [
    "#df['DAYS_BIRTH'].dtype"
   ]
  },
  {
   "cell_type": "markdown",
   "id": "8f4c3ced",
   "metadata": {},
   "source": [
    "### on sauve certains trucs et on en droppe d'autres"
   ]
  },
  {
   "cell_type": "markdown",
   "id": "ab155444",
   "metadata": {},
   "source": [
    "## FEATURE ENGINEERING"
   ]
  },
  {
   "cell_type": "code",
   "execution_count": null,
   "id": "484f37d1",
   "metadata": {},
   "outputs": [],
   "source": [
    "# on peut créer des variables supplémentaires"
   ]
  },
  {
   "cell_type": "code",
   "execution_count": null,
   "id": "746a2584",
   "metadata": {},
   "outputs": [],
   "source": [
    "#app_train_domain = df.copy()\n",
    "apptrain['CREDIT_INCOME_PERCENT'] = apptrain['AMT_CREDIT'] / apptrain['AMT_INCOME_TOTAL']\n",
    "apptrain['ANNUITY_INCOME_PERCENT'] = apptrain['AMT_ANNUITY'] / apptrain['AMT_INCOME_TOTAL']\n",
    "apptrain['CREDIT_TERM'] = apptrain['AMT_ANNUITY'] / apptrain['AMT_CREDIT']\n",
    "apptrain['DAYS_EMPLOYED_PERCENT'] = apptrain['DAYS_EMPLOYED'] / apptrain['DAYS_BIRTH']"
   ]
  },
  {
   "cell_type": "code",
   "execution_count": null,
   "id": "2762b823",
   "metadata": {},
   "outputs": [],
   "source": [
    "plt.figure(figsize = (12, 20))\n",
    "# iterate through the new features\n",
    "for i, feature in enumerate(['CREDIT_INCOME_PERCENT', 'ANNUITY_INCOME_PERCENT', 'CREDIT_TERM', 'DAYS_EMPLOYED_PERCENT']):\n",
    "    \n",
    "    # create a new subplot for each source\n",
    "    plt.subplot(4, 1, i + 1)\n",
    "    # plot repaid loans\n",
    "    sns.kdeplot(apptrain.loc[apptrain['TARGET'] == 0, feature], label = 'target == 0')\n",
    "    # plot loans that were not repaid\n",
    "    sns.kdeplot(apptrain.loc[apptrain['TARGET'] == 1, feature], label = 'target == 1')\n",
    "    \n",
    "    # Label the plots\n",
    "    plt.title('Distribution of %s by Target Value' % feature)\n",
    "    plt.xlabel('%s' % feature); plt.ylabel('Density');\n",
    "    \n",
    "plt.tight_layout(h_pad = 2.5)"
   ]
  },
  {
   "cell_type": "markdown",
   "id": "43759892",
   "metadata": {},
   "source": [
    "### on sauve les données nettoyées (indicateurs selectionnés et fillnan..) dans un fichier intermédiaire"
   ]
  },
  {
   "cell_type": "markdown",
   "id": "d2989b10",
   "metadata": {},
   "source": [
    "On cherche les features qui sont un minimum corrélés avec la Target pour créer un df réduit"
   ]
  },
  {
   "cell_type": "code",
   "execution_count": null,
   "id": "be811922",
   "metadata": {},
   "outputs": [],
   "source": [
    "list_indic=apptrain.corr()['TARGET'][apptrain.corr()['TARGET'].abs()>0.05]\n",
    "list_indic"
   ]
  },
  {
   "cell_type": "code",
   "execution_count": null,
   "id": "703d2ac7",
   "metadata": {},
   "outputs": [],
   "source": [
    "print(apptrain.loc[apptrain['TARGET']==1].shape)\n",
    "print(apptrain.loc[apptrain['TARGET']==0].shape)"
   ]
  },
  {
   "cell_type": "markdown",
   "id": "909ae751",
   "metadata": {},
   "source": [
    "#### Sauvegarde d'un df réduit"
   ]
  },
  {
   "cell_type": "code",
   "execution_count": null,
   "id": "3bb6a56b",
   "metadata": {},
   "outputs": [],
   "source": [
    "apptrain_0=apptrain[list_indic.index].copy()\n",
    "apptrain_0.to_csv(\"data/cleaned/ApptrainSaved0.csv\",index=False)"
   ]
  },
  {
   "cell_type": "markdown",
   "id": "0eb10c7a",
   "metadata": {},
   "source": [
    "#### Sauvegarde de tout le df étendu"
   ]
  },
  {
   "cell_type": "code",
   "execution_count": null,
   "id": "b946bbdc",
   "metadata": {},
   "outputs": [],
   "source": [
    "apptrain.to_csv(\"data/cleaned/ApptrainSaved1.csv\",index=False)\n"
   ]
  }
 ],
 "metadata": {
  "kernelspec": {
   "display_name": "Python 3",
   "language": "python",
   "name": "python3"
  },
  "language_info": {
   "codemirror_mode": {
    "name": "ipython",
    "version": 3
   },
   "file_extension": ".py",
   "mimetype": "text/x-python",
   "name": "python",
   "nbconvert_exporter": "python",
   "pygments_lexer": "ipython3",
   "version": "3.8.8"
  }
 },
 "nbformat": 4,
 "nbformat_minor": 5
}
